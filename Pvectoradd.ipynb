{
  "nbformat": 4,
  "nbformat_minor": 0,
  "metadata": {
    "colab": {
      "name": "Pvectoradd",
      "provenance": [],
      "authorship_tag": "ABX9TyOuk2t5SAHp1vy4SVEbQP8S",
      "include_colab_link": true
    },
    "kernelspec": {
      "name": "python3",
      "display_name": "Python 3"
    },
    "accelerator": "GPU"
  },
  "cells": [
    {
      "cell_type": "markdown",
      "metadata": {
        "id": "view-in-github",
        "colab_type": "text"
      },
      "source": [
        "<a href=\"https://colab.research.google.com/github/ShravanCool/AES-Algorithm-Implementation/blob/master/Pvectoradd.ipynb\" target=\"_parent\"><img src=\"https://colab.research.google.com/assets/colab-badge.svg\" alt=\"Open In Colab\"/></a>"
      ]
    },
    {
      "cell_type": "code",
      "metadata": {
        "id": "zGg_8cqHB6yS",
        "outputId": "a59c4a3a-4b5d-4fb2-a5a6-a0004c53eb69",
        "colab": {
          "base_uri": "https://localhost:8080/"
        }
      },
      "source": [
        "import numpy as np\n",
        "from timeit import default_timer as timer\n",
        "from numba import vectorize\n",
        "\n",
        "@vectorize([\"float32(float32, float32)\"], target='cuda')\n",
        "def VectorAdd(a, b):\n",
        "    return a + b\n",
        "\n",
        "def main():\n",
        "    N = 32000000\n",
        "    A = np.ones(N, dtype=np.float32)\n",
        "    B = np.ones(N, dtype=np.float32)\n",
        "    C = np.zeros(N, dtype=np.float32)\n",
        "\n",
        "    start = timer()\n",
        "    C = VectorAdd(A, B)\n",
        "    vector_time = timer() - start\n",
        "\n",
        "    print(\"C[:5]) = \" + str(C[:5]))\n",
        "    print(\"C[-5:]) = \" + str(C[-5:]))\n",
        "\n",
        "    print(\"VectorAdd took %f seconds\" % vector_time)\n",
        "\n",
        "if __name__ == '__main__':\n",
        "    main()\n"
      ],
      "execution_count": 2,
      "outputs": [
        {
          "output_type": "stream",
          "text": [
            "C[:5]) = [2. 2. 2. 2. 2.]\n",
            "C[-5:]) = [2. 2. 2. 2. 2.]\n",
            "VectorAdd took 0.596379 seconds\n"
          ],
          "name": "stdout"
        }
      ]
    },
    {
      "cell_type": "code",
      "metadata": {
        "id": "7WbmMf9PCE3o",
        "outputId": "5f41d2b5-d67a-4a6c-e69c-a487126cd5ac",
        "colab": {
          "base_uri": "https://localhost:8080/"
        }
      },
      "source": [
        "!pip install numba"
      ],
      "execution_count": 2,
      "outputs": [
        {
          "output_type": "stream",
          "text": [
            "Requirement already satisfied: numba in /usr/local/lib/python3.6/dist-packages (0.48.0)\n",
            "Requirement already satisfied: llvmlite<0.32.0,>=0.31.0dev0 in /usr/local/lib/python3.6/dist-packages (from numba) (0.31.0)\n",
            "Requirement already satisfied: setuptools in /usr/local/lib/python3.6/dist-packages (from numba) (50.3.0)\n",
            "Requirement already satisfied: numpy>=1.15 in /usr/local/lib/python3.6/dist-packages (from numba) (1.18.5)\n"
          ],
          "name": "stdout"
        }
      ]
    }
  ]
}